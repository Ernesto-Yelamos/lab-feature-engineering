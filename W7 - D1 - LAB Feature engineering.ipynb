{
 "cells": [
  {
   "cell_type": "markdown",
   "metadata": {},
   "source": [
    "# Lab | Revisiting Machine Learning Case Study\n",
    "\n",
    "\n",
    "- In this lab, you will use `learningSet.csv` file which you already have cloned in today's activities. \n",
    "\n",
    "### Instructions\n",
    "\n",
    "Complete the following steps on the categorical columns in the dataset:\n",
    "\n",
    "- Check for null values in all the columns\n",
    "- Exclude the following variables by looking at the definitions. Create a new empty list called `drop_list`. We will append this list and then drop all the columns in this list later:\n",
    "    - `OSOURCE` - symbol definitions not provided, too many categories\n",
    "    - `ZIP CODE` - we are including state already\n",
    "- Identify columns that have over 85% missing values\n",
    "- Remove those columns from the dataframe\n",
    "- Reduce the number of categories in the column `GENDER`. The column should only have either \"M\" for males, \"F\" for females, and \"other\" for all the rest\n",
    "    - Note that there are a few null values in the column. We will first replace those null values using the code below:\n",
    "\n",
    "    ```python\n",
    "    print(categorical['GENDER'].value_counts())\n",
    "    categorical['GENDER'] = categorical['GENDER'].fillna('F')\n",
    "    ```\n",
    "    \n",
    "# Lab | Feature engineering can be found at the bottom"
   ]
  },
  {
   "cell_type": "markdown",
   "metadata": {},
   "source": [
    "### 1. Import Libraries"
   ]
  },
  {
   "cell_type": "code",
   "execution_count": 1,
   "metadata": {},
   "outputs": [],
   "source": [
    "import pandas as pd\n",
    "import numpy as np\n",
    "pd.set_option('display.max_columns', None)\n",
    "import warnings\n",
    "warnings.filterwarnings('ignore')\n",
    "import matplotlib.pyplot as plt\n",
    "import seaborn as sns "
   ]
  },
  {
   "cell_type": "markdown",
   "metadata": {},
   "source": [
    "### 2. Load Data"
   ]
  },
  {
   "cell_type": "code",
   "execution_count": 2,
   "metadata": {},
   "outputs": [
    {
     "data": {
      "text/plain": [
       "(95412, 481)"
      ]
     },
     "execution_count": 2,
     "metadata": {},
     "output_type": "execute_result"
    }
   ],
   "source": [
    "data = pd.read_csv('W7 - D1 - learningSet.csv')\n",
    "data.shape"
   ]
  },
  {
   "cell_type": "markdown",
   "metadata": {},
   "source": [
    "### 3. EDA"
   ]
  },
  {
   "cell_type": "code",
   "execution_count": 3,
   "metadata": {},
   "outputs": [
    {
     "data": {
      "text/plain": [
       "ODATEDW       0\n",
       "OSOURCE       0\n",
       "TCODE         0\n",
       "STATE         0\n",
       "ZIP           0\n",
       "           ... \n",
       "MDMAUD_R      0\n",
       "MDMAUD_F      0\n",
       "MDMAUD_A      0\n",
       "CLUSTER2    132\n",
       "GEOCODE2    132\n",
       "Length: 481, dtype: int64"
      ]
     },
     "execution_count": 3,
     "metadata": {},
     "output_type": "execute_result"
    }
   ],
   "source": [
    "data.isnull().sum()"
   ]
  },
  {
   "cell_type": "markdown",
   "metadata": {},
   "source": [
    "### 4. Exclude the following variables by looking at the definitions. Create a new empty list called drop_list. We will append this list and then drop all the columns in this list later:\n",
    "\n",
    "OSOURCE - symbol definitions not provided, too many categories\n",
    "ZIP CODE - we are including state already"
   ]
  },
  {
   "cell_type": "code",
   "execution_count": 4,
   "metadata": {},
   "outputs": [],
   "source": [
    "drop_list = ['OSOURCE','ZIP']\n",
    "data.drop(columns=drop_list,axis=1,inplace=True)"
   ]
  },
  {
   "cell_type": "markdown",
   "metadata": {},
   "source": [
    "### 5. Identify columns that have over 85% missing values"
   ]
  },
  {
   "cell_type": "code",
   "execution_count": 5,
   "metadata": {},
   "outputs": [],
   "source": [
    "def filter_nulls(df, perc = .85):\n",
    "    '''\n",
    "    This function gets a dataframe, inspects the percentage of null values in each column\n",
    "    and returns a list of those columns which has a percentage above the threshold value\n",
    "    provided by the user. A default percentage value of 85% is assumed unless another value\n",
    "    is provided in the function arguments.\n",
    "    Inputs: \n",
    "        df: a dataframe to inspec\n",
    "        [perc]: percentage of null values in each column\n",
    "        Outputs:\n",
    "            list of columns which have a percentage of null values above the specified thershold.'''\n",
    "  \n",
    "    nulls_percent_df = pd.DataFrame(df.isna().sum()/len(df)).reset_index()  \n",
    "    nulls_percent_df.columns = ['column_name', 'nulls_percentage']\n",
    "    columns_above_threshold = nulls_percent_df[nulls_percent_df['nulls_percentage']>perc]\n",
    "    drop_columns_list = list(columns_above_threshold['column_name'])\n",
    "    return drop_columns_list"
   ]
  },
  {
   "cell_type": "code",
   "execution_count": 6,
   "metadata": {
    "scrolled": true
   },
   "outputs": [
    {
     "data": {
      "text/plain": [
       "['NUMCHLD',\n",
       " 'RDATE_3',\n",
       " 'RDATE_4',\n",
       " 'RDATE_5',\n",
       " 'RDATE_6',\n",
       " 'RDATE_7',\n",
       " 'RDATE_10',\n",
       " 'RDATE_13',\n",
       " 'RDATE_15',\n",
       " 'RDATE_17',\n",
       " 'RDATE_20',\n",
       " 'RDATE_21',\n",
       " 'RDATE_23',\n",
       " 'RAMNT_3',\n",
       " 'RAMNT_4',\n",
       " 'RAMNT_5',\n",
       " 'RAMNT_6',\n",
       " 'RAMNT_7',\n",
       " 'RAMNT_10',\n",
       " 'RAMNT_13',\n",
       " 'RAMNT_15',\n",
       " 'RAMNT_17',\n",
       " 'RAMNT_20',\n",
       " 'RAMNT_21',\n",
       " 'RAMNT_23']"
      ]
     },
     "execution_count": 6,
     "metadata": {},
     "output_type": "execute_result"
    }
   ],
   "source": [
    "drop_columns_list = filter_nulls(data,perc=0.85)\n",
    "drop_columns_list"
   ]
  },
  {
   "cell_type": "markdown",
   "metadata": {},
   "source": [
    "### 6. Remove those columns from the dataframe"
   ]
  },
  {
   "cell_type": "code",
   "execution_count": 7,
   "metadata": {},
   "outputs": [
    {
     "data": {
      "text/plain": [
       "(95412, 454)"
      ]
     },
     "execution_count": 7,
     "metadata": {},
     "output_type": "execute_result"
    }
   ],
   "source": [
    "data = data.drop(columns = drop_columns_list, axis=1)\n",
    "data.shape"
   ]
  },
  {
   "cell_type": "markdown",
   "metadata": {},
   "source": [
    "### 7. Reduce the number of categories in the column GENDER. The column should only have either \"M\" for males, \"F\" for females, and \"other\" for all the rest\n",
    "\n"
   ]
  },
  {
   "cell_type": "code",
   "execution_count": 8,
   "metadata": {},
   "outputs": [
    {
     "name": "stdout",
     "output_type": "stream",
     "text": [
      "F    51277\n",
      "M    39094\n",
      "      2957\n",
      "U     1715\n",
      "J      365\n",
      "A        2\n",
      "C        2\n",
      "Name: GENDER, dtype: int64\n"
     ]
    }
   ],
   "source": [
    "print(data['GENDER'].value_counts())"
   ]
  },
  {
   "cell_type": "code",
   "execution_count": 9,
   "metadata": {},
   "outputs": [],
   "source": [
    "def clean_gender(df):\n",
    "    '''This function will checkout the column 'GENDER' from a given dataframe \n",
    "       and it will replace the NA's or blankds by \"other\"\n",
    "       Input:\n",
    "         df: dataframe to perform the cleanup\n",
    "       Output:\n",
    "         df: dataframe with the 'GENDER' column values according to the new specficications.\n",
    "    ''' \n",
    "        \n",
    "    df2 = df.copy()\n",
    "    df2['GENDER'] = np.where(df2['GENDER'].isin(['F','M']),df2['GENDER'],\"other\")\n",
    "\n",
    "    return df2"
   ]
  },
  {
   "cell_type": "code",
   "execution_count": 10,
   "metadata": {},
   "outputs": [
    {
     "data": {
      "text/plain": [
       "F        51277\n",
       "M        39094\n",
       "other     5041\n",
       "Name: GENDER, dtype: int64"
      ]
     },
     "execution_count": 10,
     "metadata": {},
     "output_type": "execute_result"
    }
   ],
   "source": [
    "data = clean_gender(data)\n",
    "data['GENDER'].value_counts()"
   ]
  },
  {
   "cell_type": "markdown",
   "metadata": {},
   "source": [
    "# Lab | Feature engineering\n",
    "\n",
    "- In this lab, you will use `learningSet.csv` file which you have already cloned in the previous activities. \n",
    "\n",
    "### Instructions\n",
    "\n",
    "Here we will work on cleaning some of the other columns in the dataset using the techniques that we used before in the lessons.\n",
    "\n",
    "- Check for null values in the numerical columns.\n",
    "- Use appropriate methods to clean the columns `GEOCODE2`, `WEALTH1`, `ADI`, `DMA`,and `MSA`.\n",
    "- Use appropriate EDA technique where ever necessary.\n",
    "\n"
   ]
  },
  {
   "cell_type": "code",
   "execution_count": 15,
   "metadata": {},
   "outputs": [],
   "source": [
    "numerical = data.select_dtypes(np.number)\n",
    "categorical = data.select_dtypes(np.object)"
   ]
  },
  {
   "cell_type": "code",
   "execution_count": 16,
   "metadata": {},
   "outputs": [
    {
     "data": {
      "text/html": [
       "<div>\n",
       "<style scoped>\n",
       "    .dataframe tbody tr th:only-of-type {\n",
       "        vertical-align: middle;\n",
       "    }\n",
       "\n",
       "    .dataframe tbody tr th {\n",
       "        vertical-align: top;\n",
       "    }\n",
       "\n",
       "    .dataframe thead th {\n",
       "        text-align: right;\n",
       "    }\n",
       "</style>\n",
       "<table border=\"1\" class=\"dataframe\">\n",
       "  <thead>\n",
       "    <tr style=\"text-align: right;\">\n",
       "      <th></th>\n",
       "      <th>column_name</th>\n",
       "      <th>nulls</th>\n",
       "    </tr>\n",
       "  </thead>\n",
       "  <tbody>\n",
       "    <tr>\n",
       "      <th>3</th>\n",
       "      <td>AGE</td>\n",
       "      <td>23665</td>\n",
       "    </tr>\n",
       "    <tr>\n",
       "      <th>4</th>\n",
       "      <td>INCOME</td>\n",
       "      <td>21286</td>\n",
       "    </tr>\n",
       "    <tr>\n",
       "      <th>5</th>\n",
       "      <td>WEALTH1</td>\n",
       "      <td>44732</td>\n",
       "    </tr>\n",
       "    <tr>\n",
       "      <th>7</th>\n",
       "      <td>MBCRAFT</td>\n",
       "      <td>52854</td>\n",
       "    </tr>\n",
       "    <tr>\n",
       "      <th>8</th>\n",
       "      <td>MBGARDEN</td>\n",
       "      <td>52854</td>\n",
       "    </tr>\n",
       "    <tr>\n",
       "      <th>...</th>\n",
       "      <td>...</td>\n",
       "      <td>...</td>\n",
       "    </tr>\n",
       "    <tr>\n",
       "      <th>361</th>\n",
       "      <td>RAMNT_22</td>\n",
       "      <td>74539</td>\n",
       "    </tr>\n",
       "    <tr>\n",
       "      <th>362</th>\n",
       "      <td>RAMNT_24</td>\n",
       "      <td>77674</td>\n",
       "    </tr>\n",
       "    <tr>\n",
       "      <th>373</th>\n",
       "      <td>NEXTDATE</td>\n",
       "      <td>9973</td>\n",
       "    </tr>\n",
       "    <tr>\n",
       "      <th>374</th>\n",
       "      <td>TIMELAG</td>\n",
       "      <td>9973</td>\n",
       "    </tr>\n",
       "    <tr>\n",
       "      <th>381</th>\n",
       "      <td>CLUSTER2</td>\n",
       "      <td>132</td>\n",
       "    </tr>\n",
       "  </tbody>\n",
       "</table>\n",
       "<p>66 rows × 2 columns</p>\n",
       "</div>"
      ],
      "text/plain": [
       "    column_name  nulls\n",
       "3           AGE  23665\n",
       "4        INCOME  21286\n",
       "5       WEALTH1  44732\n",
       "7       MBCRAFT  52854\n",
       "8      MBGARDEN  52854\n",
       "..          ...    ...\n",
       "361    RAMNT_22  74539\n",
       "362    RAMNT_24  77674\n",
       "373    NEXTDATE   9973\n",
       "374     TIMELAG   9973\n",
       "381    CLUSTER2    132\n",
       "\n",
       "[66 rows x 2 columns]"
      ]
     },
     "execution_count": 16,
     "metadata": {},
     "output_type": "execute_result"
    }
   ],
   "source": [
    "df_num = pd.DataFrame(numerical.isna().sum()).reset_index()\n",
    "df_num.columns = ['column_name', 'nulls']\n",
    "df_num[df_num['nulls']>0]"
   ]
  },
  {
   "cell_type": "markdown",
   "metadata": {},
   "source": [
    "##### GEOCODE2"
   ]
  },
  {
   "cell_type": "code",
   "execution_count": 17,
   "metadata": {
    "scrolled": true
   },
   "outputs": [
    {
     "data": {
      "text/plain": [
       "A    34484\n",
       "B    28505\n",
       "D    16580\n",
       "C    15524\n",
       "       187\n",
       "Name: GEOCODE2, dtype: int64"
      ]
     },
     "execution_count": 17,
     "metadata": {},
     "output_type": "execute_result"
    }
   ],
   "source": [
    "categorical['GEOCODE2'].value_counts()"
   ]
  },
  {
   "cell_type": "code",
   "execution_count": 18,
   "metadata": {},
   "outputs": [],
   "source": [
    "most = categorical['GEOCODE2'].value_counts(sorted).reset_index().iloc[0,0]"
   ]
  },
  {
   "cell_type": "code",
   "execution_count": 19,
   "metadata": {},
   "outputs": [],
   "source": [
    "categorical['GEOCODE2'] = categorical['GEOCODE2'].fillna(most)"
   ]
  },
  {
   "cell_type": "markdown",
   "metadata": {},
   "source": [
    "##### WEALTH1"
   ]
  },
  {
   "cell_type": "code",
   "execution_count": 20,
   "metadata": {},
   "outputs": [
    {
     "data": {
      "text/plain": [
       "9.0    7585\n",
       "8.0    6793\n",
       "7.0    6198\n",
       "6.0    5825\n",
       "5.0    5280\n",
       "4.0    4810\n",
       "3.0    4237\n",
       "2.0    4085\n",
       "1.0    3454\n",
       "0.0    2413\n",
       "Name: WEALTH1, dtype: int64"
      ]
     },
     "execution_count": 20,
     "metadata": {},
     "output_type": "execute_result"
    }
   ],
   "source": [
    "numerical['WEALTH1'].value_counts()"
   ]
  },
  {
   "cell_type": "code",
   "execution_count": 21,
   "metadata": {},
   "outputs": [],
   "source": [
    "numerical['WEALTH1'] = numerical['WEALTH1'].astype('object') "
   ]
  },
  {
   "cell_type": "code",
   "execution_count": 23,
   "metadata": {},
   "outputs": [],
   "source": [
    "mode = numerical['WEALTH2'].value_counts(sorted).reset_index().iloc[0,0]"
   ]
  },
  {
   "cell_type": "code",
   "execution_count": 24,
   "metadata": {},
   "outputs": [],
   "source": [
    "numerical['WEALTH1'] = numerical['WEALTH1'].fillna(mode)"
   ]
  },
  {
   "cell_type": "markdown",
   "metadata": {},
   "source": [
    "##### ADI"
   ]
  },
  {
   "cell_type": "code",
   "execution_count": 25,
   "metadata": {},
   "outputs": [
    {
     "data": {
      "image/png": "[encoded data removed]",
      "text/plain": [
       "<Figure size 432x288 with 1 Axes>"
      ]
     },
     "metadata": {
      "needs_background": "light"
     },
     "output_type": "display_data"
    }
   ],
   "source": [
    "sns.distplot(numerical[numerical['ADI'].isna()==False]['ADI']) \n",
    "plt.show()"
   ]
  },
  {
   "cell_type": "code",
   "execution_count": 26,
   "metadata": {},
   "outputs": [],
   "source": [
    "numerical['ADI'] = numerical['ADI'].fillna(np.mean(numerical['ADI']))"
   ]
  },
  {
   "cell_type": "markdown",
   "metadata": {},
   "source": [
    "##### DMA"
   ]
  },
  {
   "cell_type": "code",
   "execution_count": 27,
   "metadata": {},
   "outputs": [
    {
     "data": {
      "image/png": "[encoded data removed]",
      "text/plain": [
       "<Figure size 432x288 with 1 Axes>"
      ]
     },
     "metadata": {
      "needs_background": "light"
     },
     "output_type": "display_data"
    }
   ],
   "source": [
    "sns.distplot(numerical[numerical['DMA'].isna()==False]['DMA']) \n",
    "plt.show()"
   ]
  },
  {
   "cell_type": "code",
   "execution_count": 28,
   "metadata": {},
   "outputs": [],
   "source": [
    "numerical['DMA'] = numerical['DMA'].fillna(np.mean(numerical['DMA']))"
   ]
  },
  {
   "cell_type": "markdown",
   "metadata": {},
   "source": [
    "##### MSA"
   ]
  },
  {
   "cell_type": "code",
   "execution_count": 32,
   "metadata": {},
   "outputs": [
    {
     "data": {
      "image/png": "[encoded data removed]",
      "text/plain": [
       "<Figure size 432x288 with 1 Axes>"
      ]
     },
     "metadata": {
      "needs_background": "light"
     },
     "output_type": "display_data"
    }
   ],
   "source": [
    "sns.distplot(numerical[numerical['MSA'].isna()==False]['MSA']) \n",
    "plt.show()"
   ]
  },
  {
   "cell_type": "code",
   "execution_count": 33,
   "metadata": {},
   "outputs": [],
   "source": [
    "numerical['MSA'] = numerical['MSA'].fillna(np.mean(numerical['MSA']))"
   ]
  }
 ],
 "metadata": {
  "kernelspec": {
   "display_name": "Python 3",
   "language": "python",
   "name": "python3"
  },
  "language_info": {
   "codemirror_mode": {
    "name": "ipython",
    "version": 3
   },
   "file_extension": ".py",
   "mimetype": "text/x-python",
   "name": "python",
   "nbconvert_exporter": "python",
   "pygments_lexer": "ipython3",
   "version": "3.8.3"
  }
 },
 "nbformat": 4,
 "nbformat_minor": 4
}
